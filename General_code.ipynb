{
  "nbformat": 4,
  "nbformat_minor": 0,
  "metadata": {
    "colab": {
      "name": "General code.ipynb",
      "version": "0.3.2",
      "provenance": [],
      "collapsed_sections": []
    },
    "kernelspec": {
      "name": "python3",
      "display_name": "Python 3"
    },
    "accelerator": "GPU"
  },
  "cells": [
    {
      "metadata": {
        "id": "GZE0yydPI_Th",
        "colab_type": "code",
        "colab": {
          "resources": {
            "http://localhost:8080/nbextensions/google.colab/files.js": {
              "data": "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",
              "ok": true,
              "headers": [
                [
                  "content-type",
                  "application/javascript"
                ]
              ],
              "status": 200,
              "status_text": ""
            }
          },
          "base_uri": "https://localhost:8080/",
          "height": 1024
        },
        "outputId": "e6c825e7-eac9-43bd-d154-62404b6a65ac"
      },
      "cell_type": "code",
      "source": [
        "from google.colab import files\n",
        "uploaded = files.upload()"
      ],
      "execution_count": 36,
      "outputs": [
        {
          "output_type": "display_data",
          "data": {
            "text/html": [
              "\n",
              "     <input type=\"file\" id=\"files-641f44e9-c22e-4ab0-adde-eb6457a14941\" name=\"files[]\" multiple disabled />\n",
              "     <output id=\"result-641f44e9-c22e-4ab0-adde-eb6457a14941\">\n",
              "      Upload widget is only available when the cell has been executed in the\n",
              "      current browser session. Please rerun this cell to enable.\n",
              "      </output>\n",
              "      <script src=\"/nbextensions/google.colab/files.js\"></script> "
            ],
            "text/plain": [
              "<IPython.core.display.HTML object>"
            ]
          },
          "metadata": {
            "tags": []
          }
        },
        {
          "output_type": "stream",
          "text": [
            "Saving 03a01Fa.wav to 03a01Fa (3).wav\n",
            "Saving 03a02Fc.wav to 03a02Fc (3).wav\n",
            "Saving 03a02Nc.wav to 03a02Nc (3).wav\n",
            "Saving 03a02Ta.wav to 03a02Ta (3).wav\n",
            "Saving 03a04Ad.wav to 03a04Ad (3).wav\n",
            "Saving 03a04Fd.wav to 03a04Fd (3).wav\n",
            "Saving 03a04Lc.wav to 03a04Lc (3).wav\n",
            "Saving 03a04Nc.wav to 03a04Nc (3).wav\n",
            "Saving 03a05Aa.wav to 03a05Aa (3).wav\n",
            "Saving 03a05Fc.wav to 03a05Fc (3).wav\n",
            "Saving 03a05Nd.wav to 03a05Nd (3).wav\n",
            "Saving 03a05Tc.wav to 03a05Tc (3).wav\n",
            "Saving 03a07Fa.wav to 03a07Fa (3).wav\n",
            "Saving 03a07Fb.wav to 03a07Fb (3).wav\n",
            "Saving 03a07La.wav to 03a07La (3).wav\n",
            "Saving 03b01Fa.wav to 03b01Fa (3).wav\n",
            "Saving 03b01Lb.wav to 03b01Lb (3).wav\n",
            "Saving 03b01Nb.wav to 03b01Nb (3).wav\n",
            "Saving 03b01Td.wav to 03b01Td (3).wav\n",
            "Saving 03b02Aa.wav to 03b02Aa (3).wav\n",
            "Saving 03b02La.wav to 03b02La (3).wav\n",
            "Saving 03b02Na.wav to 03b02Na (3).wav\n",
            "Saving 03b03Nb.wav to 03b03Nb (3).wav\n",
            "Saving 03b09La.wav to 03b09La (3).wav\n",
            "Saving 03b09Nc.wav to 03b09Nc (3).wav\n",
            "Saving 03b10Ab.wav to 03b10Ab (3).wav\n",
            "Saving 03b10Ec.wav to 03b10Ec (3).wav\n",
            "Saving 03b10Na.wav to 03b10Na (3).wav\n",
            "Saving 03b10Nc.wav to 03b10Nc (3).wav\n"
          ],
          "name": "stdout"
        }
      ]
    },
    {
      "metadata": {
        "id": "3ex4PBZkJKU3",
        "colab_type": "code",
        "colab": {
          "base_uri": "https://localhost:8080/",
          "height": 510
        },
        "outputId": "bd96d525-b374-4c2d-95cb-87cda8338e5c"
      },
      "cell_type": "code",
      "source": [
        "for fn in uploaded.keys():\n",
        "  print('User uploaded file \"{name}\" with length {length} bytes'.format(name=fn, length=len(uploaded[fn])))"
      ],
      "execution_count": 37,
      "outputs": [
        {
          "output_type": "stream",
          "text": [
            "User uploaded file \"03a01Fa.wav\" with length 60788 bytes\n",
            "User uploaded file \"03a02Fc.wav\" with length 64244 bytes\n",
            "User uploaded file \"03a02Nc.wav\" with length 46118 bytes\n",
            "User uploaded file \"03a02Ta.wav\" with length 55586 bytes\n",
            "User uploaded file \"03a04Ad.wav\" with length 48200 bytes\n",
            "User uploaded file \"03a04Fd.wav\" with length 54342 bytes\n",
            "User uploaded file \"03a04Lc.wav\" with length 61836 bytes\n",
            "User uploaded file \"03a04Nc.wav\" with length 50006 bytes\n",
            "User uploaded file \"03a05Aa.wav\" with length 98848 bytes\n",
            "User uploaded file \"03a05Fc.wav\" with length 102322 bytes\n",
            "User uploaded file \"03a05Nd.wav\" with length 101420 bytes\n",
            "User uploaded file \"03a05Tc.wav\" with length 111974 bytes\n",
            "User uploaded file \"03a07Fa.wav\" with length 68326 bytes\n",
            "User uploaded file \"03a07Fb.wav\" with length 78440 bytes\n",
            "User uploaded file \"03a07La.wav\" with length 76894 bytes\n",
            "User uploaded file \"03b01Fa.wav\" with length 75634 bytes\n",
            "User uploaded file \"03b01Lb.wav\" with length 92170 bytes\n",
            "User uploaded file \"03b01Nb.wav\" with length 76498 bytes\n",
            "User uploaded file \"03b01Td.wav\" with length 108546 bytes\n",
            "User uploaded file \"03b02Aa.wav\" with length 98758 bytes\n",
            "User uploaded file \"03b02La.wav\" with length 110918 bytes\n",
            "User uploaded file \"03b02Na.wav\" with length 94294 bytes\n",
            "User uploaded file \"03b03Nb.wav\" with length 116668 bytes\n",
            "User uploaded file \"03b09La.wav\" with length 99650 bytes\n",
            "User uploaded file \"03b09Nc.wav\" with length 82878 bytes\n",
            "User uploaded file \"03b10Ab.wav\" with length 90548 bytes\n",
            "User uploaded file \"03b10Ec.wav\" with length 102508 bytes\n",
            "User uploaded file \"03b10Na.wav\" with length 72250 bytes\n",
            "User uploaded file \"03b10Nc.wav\" with length 71010 bytes\n"
          ],
          "name": "stdout"
        }
      ]
    },
    {
      "metadata": {
        "id": "hdhPn2L2Gvfm",
        "colab_type": "code",
        "colab": {
          "resources": {
            "http://localhost:8080/nbextensions/google.colab/files.js": {
              "data": "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",
              "ok": true,
              "headers": [
                [
                  "content-type",
                  "application/javascript"
                ]
              ],
              "status": 200,
              "status_text": ""
            }
          },
          "base_uri": "https://localhost:8080/",
          "height": 480
        },
        "outputId": "72f41b77-4dd7-40f2-e059-79ba6cac2313"
      },
      "cell_type": "code",
      "source": [
        "from google.colab import files\n",
        "uploaded = files.upload()"
      ],
      "execution_count": 39,
      "outputs": [
        {
          "output_type": "display_data",
          "data": {
            "text/html": [
              "\n",
              "     <input type=\"file\" id=\"files-146d5db5-62bd-4d85-aa4d-f12f464e1ccd\" name=\"files[]\" multiple disabled />\n",
              "     <output id=\"result-146d5db5-62bd-4d85-aa4d-f12f464e1ccd\">\n",
              "      Upload widget is only available when the cell has been executed in the\n",
              "      current browser session. Please rerun this cell to enable.\n",
              "      </output>\n",
              "      <script src=\"/nbextensions/google.colab/files.js\"></script> "
            ],
            "text/plain": [
              "<IPython.core.display.HTML object>"
            ]
          },
          "metadata": {
            "tags": []
          }
        },
        {
          "output_type": "stream",
          "text": [
            "Saving 03a01Nc.wav to 03a01Nc (3).wav\n",
            "Saving 03a02Wb.wav to 03a02Wb (3).wav\n",
            "Saving 03a04Ta.wav to 03a04Ta (3).wav\n",
            "Saving 03a05Wa.wav to 03a05Wa (3).wav\n",
            "Saving 03a07Nc.wav to 03a07Nc (3).wav\n",
            "Saving 03b01Wa.wav to 03b01Wa (3).wav\n",
            "Saving 03b02Tb.wav to 03b02Tb (3).wav\n",
            "Saving 03b03Tc.wav to 03b03Tc (3).wav\n",
            "Saving 03b09Tc.wav to 03b09Tc (3).wav\n",
            "Saving 03b10Wb.wav to 03b10Wb (3).wav\n",
            "Saving 08a02Ac.wav to 08a02Ac (1).wav\n",
            "Saving 08a04La.wav to 08a04La (1).wav\n",
            "Saving 08a07Fd.wav to 08a07Fd (1).wav\n"
          ],
          "name": "stdout"
        }
      ]
    },
    {
      "metadata": {
        "id": "1zHCF-QVGv1m",
        "colab_type": "code",
        "colab": {
          "base_uri": "https://localhost:8080/",
          "height": 238
        },
        "outputId": "9d5d59bc-080a-4aba-887c-0c5c11e57689"
      },
      "cell_type": "code",
      "source": [
        "for fn in uploaded.keys():\n",
        "  print('User uploaded file \"{name}\" with length {length} bytes'.format(name=fn, length=len(uploaded[fn])))"
      ],
      "execution_count": 40,
      "outputs": [
        {
          "output_type": "stream",
          "text": [
            "User uploaded file \"03a01Nc.wav\" with length 51604 bytes\n",
            "User uploaded file \"03a02Wb.wav\" with length 68000 bytes\n",
            "User uploaded file \"03a04Ta.wav\" with length 66078 bytes\n",
            "User uploaded file \"03a05Wa.wav\" with length 110148 bytes\n",
            "User uploaded file \"03a07Nc.wav\" with length 57264 bytes\n",
            "User uploaded file \"03b01Wa.wav\" with length 69798 bytes\n",
            "User uploaded file \"03b02Tb.wav\" with length 164104 bytes\n",
            "User uploaded file \"03b03Tc.wav\" with length 169622 bytes\n",
            "User uploaded file \"03b09Tc.wav\" with length 126352 bytes\n",
            "User uploaded file \"03b10Wb.wav\" with length 69370 bytes\n",
            "User uploaded file \"08a02Ac.wav\" with length 54006 bytes\n",
            "User uploaded file \"08a04La.wav\" with length 66792 bytes\n",
            "User uploaded file \"08a07Fd.wav\" with length 62862 bytes\n"
          ],
          "name": "stdout"
        }
      ]
    },
    {
      "metadata": {
        "id": "nzgzxiuNramF",
        "colab_type": "code",
        "colab": {
          "resources": {
            "http://localhost:8080/nbextensions/google.colab/files.js": {
              "data": "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",
              "ok": true,
              "headers": [
                [
                  "content-type",
                  "application/javascript"
                ]
              ],
              "status": 200,
              "status_text": ""
            }
          },
          "base_uri": "https://localhost:8080/",
          "height": 480
        },
        "outputId": "06f8c7b7-77e0-4bdb-9dbb-75563235959a"
      },
      "cell_type": "code",
      "source": [
        "from google.colab import files\n",
        "uploaded = files.upload()"
      ],
      "execution_count": 41,
      "outputs": [
        {
          "output_type": "display_data",
          "data": {
            "text/html": [
              "\n",
              "     <input type=\"file\" id=\"files-554ffb37-8019-4264-b66d-0ab8d238a3e8\" name=\"files[]\" multiple disabled />\n",
              "     <output id=\"result-554ffb37-8019-4264-b66d-0ab8d238a3e8\">\n",
              "      Upload widget is only available when the cell has been executed in the\n",
              "      current browser session. Please rerun this cell to enable.\n",
              "      </output>\n",
              "      <script src=\"/nbextensions/google.colab/files.js\"></script> "
            ],
            "text/plain": [
              "<IPython.core.display.HTML object>"
            ]
          },
          "metadata": {
            "tags": []
          }
        },
        {
          "output_type": "stream",
          "text": [
            "Saving 03a01Wa.wav to 03a01Wa (3).wav\n",
            "Saving 03a02Wc.wav to 03a02Wc (3).wav\n",
            "Saving 03a04Wc.wav to 03a04Wc (3).wav\n",
            "Saving 03a05Wb.wav to 03a05Wb (3).wav\n",
            "Saving 03a07Wc.wav to 03a07Wc (3).wav\n",
            "Saving 03b01Wc.wav to 03b01Wc (3).wav\n",
            "Saving 03b02Wb.wav to 03b02Wb (3).wav\n",
            "Saving 03b03Wc.wav to 03b03Wc (3).wav\n",
            "Saving 03b09Wa.wav to 03b09Wa (3).wav\n",
            "Saving 03b10Wc.wav to 03b10Wc (3).wav\n",
            "Saving 08a02Na.wav to 08a02Na (1).wav\n",
            "Saving 08a04Tb.wav to 08a04Tb (1).wav\n",
            "Saving 08a07Wc.wav to 08a07Wc (1).wav\n"
          ],
          "name": "stdout"
        }
      ]
    },
    {
      "metadata": {
        "id": "jZSxeRqbrbIs",
        "colab_type": "code",
        "colab": {
          "base_uri": "https://localhost:8080/",
          "height": 238
        },
        "outputId": "b56653dd-e386-4b6b-ae47-c2db9be6aacb"
      },
      "cell_type": "code",
      "source": [
        "for fn in uploaded.keys():\n",
        "  print('User uploaded file \"{name}\" with length {length} bytes'.format(name=fn, length=len(uploaded[fn])))"
      ],
      "execution_count": 42,
      "outputs": [
        {
          "output_type": "stream",
          "text": [
            "User uploaded file \"03a01Wa.wav\" with length 60134 bytes\n",
            "User uploaded file \"03a02Wc.wav\" with length 47982 bytes\n",
            "User uploaded file \"03a04Wc.wav\" with length 65456 bytes\n",
            "User uploaded file \"03a05Wb.wav\" with length 94836 bytes\n",
            "User uploaded file \"03a07Wc.wav\" with length 66846 bytes\n",
            "User uploaded file \"03b01Wc.wav\" with length 93780 bytes\n",
            "User uploaded file \"03b02Wb.wav\" with length 101934 bytes\n",
            "User uploaded file \"03b03Wc.wav\" with length 123162 bytes\n",
            "User uploaded file \"03b09Wa.wav\" with length 92644 bytes\n",
            "User uploaded file \"03b10Wc.wav\" with length 78188 bytes\n",
            "User uploaded file \"08a02Na.wav\" with length 57344 bytes\n",
            "User uploaded file \"08a04Tb.wav\" with length 122834 bytes\n",
            "User uploaded file \"08a07Wc.wav\" with length 71062 bytes\n"
          ],
          "name": "stdout"
        }
      ]
    },
    {
      "metadata": {
        "id": "RcNqUp5DJTsG",
        "colab_type": "code",
        "colab": {}
      },
      "cell_type": "code",
      "source": [
        "import numpy as np\n",
        "#import librosa \n",
        "import scipy.io.wavfile as sciwave\n",
        "from scipy.fftpack import dct\n",
        "import matplotlib.pyplot as plt\n",
        "from numpy.linalg import norm"
      ],
      "execution_count": 0,
      "outputs": []
    },
    {
      "metadata": {
        "id": "9ra2PDERJY77",
        "colab_type": "code",
        "colab": {}
      },
      "cell_type": "code",
      "source": [
        " sample_rate1, signal1 = sciwave.read(\"03a01Fa.wav\") \n",
        " sample_rate2, signal2 = sciwave.read(\"03a02Fc.wav\")\n",
        " sample_rate3, signal3 = sciwave.read(\"03a02Nc.wav\")\n",
        " sample_rate4, signal4 = sciwave.read(\"03a02Ta.wav\")\n",
        " sample_rate5, signal5 = sciwave.read(\"03a04Ad.wav\") \n",
        " sample_rate6, signal6 = sciwave.read(\"03a04Fd.wav\") \n",
        " sample_rate7, signal7 = sciwave.read(\"03a04Lc.wav\") \n",
        " sample_rate8, signal8 = sciwave.read(\"03a04Nc.wav\")\n",
        " sample_rate9, signal9 = sciwave.read(\"03a05Aa.wav\")\n",
        " sample_rate10, signal10 = sciwave.read(\"03a05Fc.wav\")\n",
        " sample_rate11, signal11 = sciwave.read(\"03a05Nd.wav\")\n",
        " sample_rate12, signal12 = sciwave.read(\"03a05Tc.wav\")\n",
        " sample_rate13, signal13 = sciwave.read(\"03a07Fa.wav\")\n",
        " sample_rate14, signal14 = sciwave.read(\"03a07Fb.wav\")\n",
        " sample_rate15, signal15 = sciwave.read(\"03a07La.wav\")\n",
        " sample_rate16, signal16 = sciwave.read(\"03b01Fa.wav\")\n",
        " sample_rate17, signal17 = sciwave.read(\"03b01Lb.wav\")\n",
        " sample_rate18, signal18 = sciwave.read(\"03b01Nb.wav\")\n",
        " sample_rate19, signal19 = sciwave.read(\"03b01Td.wav\")\n",
        " sample_rate20, signal20 = sciwave.read(\"03b02Aa.wav\")\n",
        " sample_rate21, signal21 = sciwave.read(\"03b02La.wav\") \n",
        " sample_rate22, signal22 = sciwave.read(\"03b02Na.wav\")\n",
        " sample_rate23, signal23 = sciwave.read(\"03b03Nb.wav\")\n",
        " sample_rate24, signal24 = sciwave.read(\"03b09La.wav\")\n",
        " sample_rate25, signal25 = sciwave.read(\"03b09Nc.wav\")\n",
        " sample_rate26, signal26 = sciwave.read(\"03b10Ab.wav\")\n",
        " sample_rate27, signal27 = sciwave.read(\"03b10Ec.wav\")\n",
        " sample_rate28, signal28 = sciwave.read(\"03b10Na.wav\")\n",
        " sample_rate29, signal29 = sciwave.read(\"03b10Nc.wav\") \n"
      ],
      "execution_count": 0,
      "outputs": []
    },
    {
      "metadata": {
        "id": "2GJl6cvyyV72",
        "colab_type": "code",
        "colab": {}
      },
      "cell_type": "code",
      "source": [
        " sample_rate30, signal30 = sciwave.read(\"03a01Nc.wav\")\n",
        " sample_rate31, signal31 = sciwave.read(\"08a02Ac.wav\")\n",
        " sample_rate32, signal32 = sciwave.read(\"08a04La.wav\")\n",
        " sample_rate33, signal33 = sciwave.read(\"03a05Wa.wav\")\n",
        " sample_rate34, signal34 = sciwave.read(\"08a07Fd.wav\")\n",
        " sample_rate35, signal35 = sciwave.read(\"03b01Wa.wav\")\n",
        " sample_rate36, signal36 = sciwave.read(\"03b02Tb.wav\")\n",
        " sample_rate37, signal37 = sciwave.read(\"03b03Tc.wav\")\n",
        " sample_rate38, signal38 = sciwave.read(\"03b09Tc.wav\")\n",
        " sample_rate39, signal39 = sciwave.read(\"03b10Wb.wav\")\n",
        " "
      ],
      "execution_count": 0,
      "outputs": []
    },
    {
      "metadata": {
        "id": "GDVKtwfVyWSd",
        "colab_type": "code",
        "colab": {}
      },
      "cell_type": "code",
      "source": [
        " sample_rate40, signal40 = sciwave.read(\"03a01Wa.wav\")\n",
        " sample_rate41, signal41 = sciwave.read(\"08a02Na.wav\")\n",
        " sample_rate42, signal42 = sciwave.read(\"08a04Tb.wav\")\n",
        " sample_rate43, signal43 = sciwave.read(\"03a05Wb.wav\")\n",
        " sample_rate44, signal44 = sciwave.read(\"08a07Wc.wav\")\n",
        " sample_rate45, signal45 = sciwave.read(\"03b01Wc.wav\")\n",
        " sample_rate46, signal46 = sciwave.read(\"03b02Wb.wav\")\n",
        " sample_rate47, signal47 = sciwave.read(\"03b03Wc.wav\")\n",
        " sample_rate48, signal48 = sciwave.read(\"03b09Wa.wav\")\n",
        " sample_rate49, signal49 = sciwave.read(\"03b10Wc.wav\")\n",
        "\n",
        "\n"
      ],
      "execution_count": 0,
      "outputs": []
    },
    {
      "metadata": {
        "id": "mj7mC7o1Jega",
        "colab_type": "code",
        "colab": {}
      },
      "cell_type": "code",
      "source": [
        "from scipy.signal import resample \n",
        "signal1=resample(signal1,40000 , t=None, axis=0, window=None)\n",
        "signal2=resample(signal2,40000 , t=None, axis=0, window=None)\n",
        "signal3=resample(signal3,40000 , t=None, axis=0, window=None)\n",
        "signal4=resample(signal4,40000 , t=None, axis=0, window=None)\n",
        "signal5=resample(signal5,40000 , t=None, axis=0, window=None)\n",
        "signal6=resample(signal6,40000 , t=None, axis=0, window=None)\n",
        "signal7=resample(signal7,40000 , t=None, axis=0, window=None)\n",
        "signal8=resample(signal8,40000 , t=None, axis=0, window=None)\n",
        "signal9=resample(signal9,40000 , t=None, axis=0, window=None)\n",
        "signal10=resample(signal10,40000 , t=None, axis=0, window=None)\n",
        "signal11=resample(signal11,40000 , t=None, axis=0, window=None)\n",
        "signal12=resample(signal12,40000 , t=None, axis=0, window=None)\n",
        "signal13=resample(signal13,40000 , t=None, axis=0, window=None)\n",
        "signal14=resample(signal14,40000 , t=None, axis=0, window=None)\n",
        "signal15=resample(signal15,40000 , t=None, axis=0, window=None)\n",
        "signal16=resample(signal16,40000 , t=None, axis=0, window=None)\n",
        "signal17=resample(signal17,40000 , t=None, axis=0, window=None)\n",
        "signal18=resample(signal18,40000 , t=None, axis=0, window=None)\n",
        "signal19=resample(signal19,40000 , t=None, axis=0, window=None)\n",
        "signal20=resample(signal20,40000 , t=None, axis=0, window=None)\n",
        "signal21=resample(signal21,40000 , t=None, axis=0, window=None)\n",
        "signal22=resample(signal22,40000 , t=None, axis=0, window=None)\n",
        "signal23=resample(signal23,40000 , t=None, axis=0, window=None)\n",
        "signal24=resample(signal24,40000 , t=None, axis=0, window=None)\n",
        "signal25=resample(signal25,40000 , t=None, axis=0, window=None)\n",
        "signal26=resample(signal26,40000 , t=None, axis=0, window=None)\n",
        "signal27=resample(signal27,40000 , t=None, axis=0, window=None)\n",
        "signal28=resample(signal28,40000 , t=None, axis=0, window=None)\n",
        "signal29=resample(signal29,40000 , t=None, axis=0, window=None)\n",
        "signal30=resample(signal30,40000 , t=None, axis=0, window=None)\n",
        "signal31=resample(signal31,40000 , t=None, axis=0, window=None)\n",
        "signal32=resample(signal32,40000 , t=None, axis=0, window=None)\n",
        "signal33=resample(signal33,40000 , t=None, axis=0, window=None)\n",
        "signal34=resample(signal34,40000 , t=None, axis=0, window=None)\n",
        "signal35=resample(signal35,40000 , t=None, axis=0, window=None)\n",
        "signal36=resample(signal36,40000 , t=None, axis=0, window=None)\n",
        "signal37=resample(signal37,40000 , t=None, axis=0, window=None)\n",
        "signal38=resample(signal38,40000 , t=None, axis=0, window=None)\n",
        "signal39=resample(signal39,40000 , t=None, axis=0, window=None)\n",
        "signal40=resample(signal40,40000 , t=None, axis=0, window=None)\n",
        "signal41=resample(signal41,40000 , t=None, axis=0, window=None)\n",
        "signal42=resample(signal42,40000 , t=None, axis=0, window=None)\n",
        "signal43=resample(signal43,40000 , t=None, axis=0, window=None)\n",
        "signal44=resample(signal44,40000 , t=None, axis=0, window=None)\n",
        "signal45=resample(signal45,40000 , t=None, axis=0, window=None)\n",
        "signal46=resample(signal46,40000 , t=None, axis=0, window=None)\n",
        "signal47=resample(signal47,40000 , t=None, axis=0, window=None)\n",
        "signal48=resample(signal48,40000 , t=None, axis=0, window=None)\n",
        "signal49=resample(signal49,40000 , t=None, axis=0, window=None)"
      ],
      "execution_count": 0,
      "outputs": []
    },
    {
      "metadata": {
        "id": "mjNbfFkPKjZq",
        "colab_type": "code",
        "colab": {}
      },
      "cell_type": "code",
      "source": [
        "signal = {}\n",
        "sample_rate = {}\n",
        "\n",
        "N_train = 29\n",
        "N_dev = 10\n",
        "N_test = 10\n",
        "\n",
        "signal[str(1)] = signal1\n",
        "signal[str(2)] = signal2\n",
        "signal[str(3)] = signal3\n",
        "signal[str(4)] = signal4\n",
        "signal[str(5)] = signal5\n",
        "signal[str(6)] = signal6\n",
        "signal[str(7)] = signal7\n",
        "signal[str(8)] = signal8\n",
        "signal[str(9)] = signal9\n",
        "signal[str(10)] = signal10\n",
        "signal[str(11)] = signal11\n",
        "signal[str(12)] = signal12\n",
        "signal[str(13)] = signal13\n",
        "signal[str(14)] = signal14\n",
        "signal[str(15)] = signal15\n",
        "signal[str(16)] = signal16\n",
        "signal[str(17)] = signal17\n",
        "signal[str(18)] = signal18\n",
        "signal[str(19)] = signal19\n",
        "signal[str(20)] = signal20\n",
        "signal[str(21)] = signal21\n",
        "signal[str(22)] = signal22\n",
        "signal[str(23)] = signal23\n",
        "signal[str(24)] = signal24\n",
        "signal[str(25)] = signal25\n",
        "signal[str(26)] = signal26\n",
        "signal[str(27)] = signal27\n",
        "signal[str(28)] = signal28\n",
        "signal[str(29)] = signal29\n",
        "signal[str(30)] = signal30\n",
        "signal[str(31)] = signal31\n",
        "signal[str(32)] = signal32\n",
        "signal[str(33)] = signal33\n",
        "signal[str(34)] = signal34\n",
        "signal[str(35)] = signal35\n",
        "signal[str(36)] = signal36\n",
        "signal[str(37)] = signal37\n",
        "signal[str(38)] = signal38\n",
        "signal[str(39)] = signal39\n",
        "signal[str(40)] = signal40\n",
        "signal[str(41)] = signal41\n",
        "signal[str(42)] = signal42\n",
        "signal[str(43)] = signal43\n",
        "signal[str(44)] = signal44\n",
        "signal[str(45)] = signal45\n",
        "signal[str(46)] = signal46\n",
        "signal[str(47)] = signal47\n",
        "signal[str(48)] = signal48\n",
        "signal[str(49)] = signal49\n",
        "\n",
        "\n",
        "\n",
        "\n",
        "\n",
        "sample_rate[str(1)] = sample_rate1\n",
        "sample_rate[str(2)] = sample_rate2\n",
        "sample_rate[str(3)] = sample_rate3\n",
        "sample_rate[str(4)] = sample_rate4\n",
        "sample_rate[str(5)] = sample_rate5\n",
        "sample_rate[str(6)] = sample_rate6\n",
        "sample_rate[str(7)] = sample_rate7\n",
        "sample_rate[str(8)] = sample_rate8\n",
        "sample_rate[str(9)] = sample_rate9\n",
        "sample_rate[str(10)] = sample_rate10\n",
        "sample_rate[str(11)] = sample_rate11\n",
        "sample_rate[str(12)] = sample_rate12\n",
        "sample_rate[str(13)] = sample_rate13\n",
        "sample_rate[str(14)] = sample_rate14\n",
        "sample_rate[str(15)] = sample_rate15\n",
        "sample_rate[str(16)] = sample_rate16\n",
        "sample_rate[str(17)] = sample_rate17\n",
        "sample_rate[str(18)] = sample_rate18\n",
        "sample_rate[str(19)] = sample_rate19\n",
        "sample_rate[str(20)] = sample_rate20\n",
        "sample_rate[str(21)] = sample_rate21\n",
        "sample_rate[str(22)] = sample_rate22\n",
        "sample_rate[str(23)] = sample_rate23\n",
        "sample_rate[str(24)] = sample_rate24\n",
        "sample_rate[str(25)] = sample_rate25\n",
        "sample_rate[str(26)] = sample_rate26\n",
        "sample_rate[str(27)] = sample_rate27\n",
        "sample_rate[str(28)] = sample_rate28\n",
        "sample_rate[str(29)] = sample_rate29\n",
        "sample_rate[str(30)] = sample_rate30\n",
        "sample_rate[str(31)] = sample_rate31\n",
        "sample_rate[str(32)] = sample_rate32\n",
        "sample_rate[str(33)] = sample_rate33\n",
        "sample_rate[str(34)] = sample_rate34\n",
        "sample_rate[str(35)] = sample_rate35\n",
        "sample_rate[str(36)] = sample_rate36\n",
        "sample_rate[str(37)] = sample_rate37\n",
        "sample_rate[str(38)] = sample_rate38\n",
        "sample_rate[str(39)] = sample_rate39\n",
        "sample_rate[str(40)] = sample_rate40\n",
        "sample_rate[str(41)] = sample_rate41\n",
        "sample_rate[str(42)] = sample_rate42\n",
        "sample_rate[str(43)] = sample_rate43\n",
        "sample_rate[str(44)] = sample_rate44\n",
        "sample_rate[str(45)] = sample_rate45\n",
        "sample_rate[str(46)] = sample_rate46\n",
        "sample_rate[str(47)] = sample_rate47\n",
        "sample_rate[str(48)] = sample_rate48\n",
        "sample_rate[str(49)] = sample_rate49\n"
      ],
      "execution_count": 0,
      "outputs": []
    },
    {
      "metadata": {
        "id": "lIenh_eYJiVK",
        "colab_type": "code",
        "colab": {}
      },
      "cell_type": "code",
      "source": [
        "emphasized_signal = {}\n",
        "pre_emphasis = 0.975\n",
        "for i in range(1,(N_train + N_dev + N_test + 1)):\n",
        "  emphasized_signal[str(i)] = np.append(signal[str(i)][0], signal[str(i)][1:] - pre_emphasis * signal[str(i)][:-1])\n"
      ],
      "execution_count": 0,
      "outputs": []
    },
    {
      "metadata": {
        "id": "LhLjjWG6MDn6",
        "colab_type": "code",
        "colab": {}
      },
      "cell_type": "code",
      "source": [
        "frame_size = 0.025\n",
        "frame_stride = 0.01\n",
        "frame_length = {}\n",
        "frame_step = {}\n",
        "signal_length = {}\n",
        "frame_length = {}\n",
        "num_frames = {}\n",
        "pad_signal_length = {}\n",
        "z = {}\n",
        "pad_signal = {}\n",
        "indices = {}\n",
        "frames = {}\n",
        "\n",
        "for i in range(1,(N_train + N_dev + N_test + 1)):\n",
        "  frame_length[str(i)], frame_step[str(i)] = frame_size * sample_rate[str(i)], frame_stride * sample_rate[str(i)]  # Convert from seconds to samples\n",
        "  signal_length[str(i)] = len(emphasized_signal[str(i)])\n",
        "  frame_length[str(i)] = int(round(frame_length[str(i)]))\n",
        "  frame_step[str(i)] = int(round(frame_step[str(i)]))\n",
        "  num_frames[str(i)] = int(np.ceil(float(np.abs(signal_length[str(i)] - frame_length[str(i)])) / frame_step[str(i)]))  # Make sure that we have at least [str(i)] frame\n",
        "\n",
        "  pad_signal_length[str(i)] = num_frames[str(i)] * frame_step[str(i)] + frame_length[str(i)]\n",
        "  z[str(i)] = np.zeros((pad_signal_length[str(i)] - signal_length[str(i)]))\n",
        "  pad_signal[str(i)] = np.append(emphasized_signal[str(i)], z[str(i)]) # Pad Signal to make sure that all frames have equal number of samples without truncating any samples from the original signal\n",
        "\n",
        "  indices[str(i)] = np.tile(np.arange(0, frame_length[str(i)]), (num_frames[str(i)], 1)) + np.tile(np.arange(0, num_frames[str(i)] * frame_step[str(i)], frame_step[str(i)]), (frame_length[str(i)], 1)).T\n",
        "  frames[str(i)] = pad_signal[str(i)][indices[str(i)].astype(np.int32, copy=False)]\n",
        "  "
      ],
      "execution_count": 0,
      "outputs": []
    },
    {
      "metadata": {
        "id": "Wff6MbSzQASL",
        "colab_type": "code",
        "colab": {}
      },
      "cell_type": "code",
      "source": [
        "for i in range(1,(N_train + N_dev + N_test + 1)):\n",
        "  frames[str(i)] *= np.hamming(frame_length[str(i)])\n"
      ],
      "execution_count": 0,
      "outputs": []
    },
    {
      "metadata": {
        "id": "8hAYO1yoR1gb",
        "colab_type": "code",
        "colab": {}
      },
      "cell_type": "code",
      "source": [
        "NFFT = 512\n",
        "mag_frames = {}\n",
        "pow_frames = {}\n",
        "\n",
        "for i in range(1,(N_train + N_dev + N_test + 1)):\n",
        "  mag_frames[str(i)] = np.absolute(np.fft.rfft(frames[str(i)], NFFT))  # Magnitude of the FFT\n",
        "  pow_frames[str(i)] = ((1.0 / NFFT) * ((mag_frames[str(i)]) ** 2))  # Power Spectrum\n",
        "  \n"
      ],
      "execution_count": 0,
      "outputs": []
    },
    {
      "metadata": {
        "id": "ADPQ8kjQSPdL",
        "colab_type": "code",
        "colab": {}
      },
      "cell_type": "code",
      "source": [
        "nfilt = 40\n",
        "high_freq_mel = {}\n",
        "mel_points = {}\n",
        "hz_points = {}\n",
        "biin = {}\n",
        "fbank = {}\n",
        "f_m_minus = {}\n",
        "f_m = {}\n",
        "f_m_plus = {}\n",
        "filter_banks = {}\n",
        "\n",
        "low_freq_mel = 0\n",
        "for i in range(1,(N_train + N_dev + N_test + 1)):\n",
        "  high_freq_mel[str(i)] = (2595 * np.log10(1 + (sample_rate[str(i)] / 2) / 700))  # Convert Hz to Mel\n",
        "  mel_points[str(i)] = np.linspace(low_freq_mel, high_freq_mel[str(i)], nfilt + 2)  # Equally spaced in Mel scale\n",
        "  hz_points[str(i)] = (700 * (10**(mel_points[str(i)] / 2595) - 1))  # Convert Mel to Hz\n",
        "  biin[str(i)] = np.floor((NFFT + 1) * hz_points[str(i)] / sample_rate[str(i)])\n",
        "\n",
        "  fbank[str(i)] = np.zeros((nfilt, int(np.floor(NFFT / 2 + 1))))\n",
        "  for m in range(1, nfilt + 1):\n",
        "      f_m_minus[str(i)] = int(biin[str(i)][m - 1])   # left\n",
        "      f_m[str(i)] = int(biin[str(i)][m])             # center\n",
        "      f_m_plus[str(i)] = int(biin[str(i)][m + 1])    # right\n",
        "\n",
        "      for k in range(f_m_minus[str(i)], f_m[str(i)]):\n",
        "          fbank[str(i)][m - 1, k] = (k - biin[str(i)][m - 1]) / (biin[str(i)][m] - biin[str(i)][m - 1])\n",
        "      for k in range(f_m[str(i)], f_m_plus[str(i)]):\n",
        "          fbank[str(i)][m - 1, k] = (biin[str(i)][m + 1] - k) / (biin[str(i)][m + 1] - biin[str(i)][m])\n",
        "  filter_banks[str(i)] = np.dot(pow_frames[str(i)], fbank[str(i)].T)\n",
        "  filter_banks[str(i)] = np.where(filter_banks[str(i)] == 0, np.finfo(float).eps, filter_banks[str(i)])  # Numerical Stability\n",
        "  filter_banks[str(i)] = 20 * np.log10(filter_banks[str(i)])  # dB\n"
      ],
      "execution_count": 0,
      "outputs": []
    },
    {
      "metadata": {
        "id": "Bkntg3lpUHZ7",
        "colab_type": "code",
        "colab": {}
      },
      "cell_type": "code",
      "source": [
        "num_ceps = 12\n",
        "mfcc = {}\n",
        "for i in range(1,(N_train + N_dev + N_test + 1)):\n",
        "  mfcc[str(i)] = dct(filter_banks[str(i)], type=2, axis=1, norm='ortho')[:, 1 : (num_ceps + 1)] # Keep 2-13"
      ],
      "execution_count": 0,
      "outputs": []
    },
    {
      "metadata": {
        "id": "ddBa1Ot6Uccs",
        "colab_type": "code",
        "colab": {}
      },
      "cell_type": "code",
      "source": [
        "cep_lifter = 22\n",
        "nframes = {}\n",
        "ncoeff = {}\n",
        "n = {}\n",
        "lift = {}\n",
        "\n",
        "for i in range(1,(N_train + N_dev + N_test + 1)):\n",
        "  (nframes[str(i)], ncoeff[str(i)]) = mfcc[str(i)].shape\n",
        "  n[str(i)] = np.arange(ncoeff[str(i)])\n",
        "  lift[str(i)] = 1 + (cep_lifter / 2) * np.sin(np.pi * n[str(i)] / cep_lifter)\n",
        "  mfcc[str(i)] *= lift[str(i)]  #*\n"
      ],
      "execution_count": 0,
      "outputs": []
    },
    {
      "metadata": {
        "id": "cLagPi70U0bs",
        "colab_type": "code",
        "colab": {}
      },
      "cell_type": "code",
      "source": [
        "for i in range(1,(N_train + N_dev + N_test + 1)):\n",
        "  filter_banks[str(i)] -= (np.mean(filter_banks[str(i)], axis=0) + 1e-8)"
      ],
      "execution_count": 0,
      "outputs": []
    },
    {
      "metadata": {
        "id": "Ibn0V5hFVWor",
        "colab_type": "code",
        "colab": {}
      },
      "cell_type": "code",
      "source": [
        "for i in range(1,(N_train + N_dev + N_test + 1)):\n",
        "  mfcc[str(i)] -= (np.mean(mfcc[str(i)], axis=0) + 1e-8)\n"
      ],
      "execution_count": 0,
      "outputs": []
    },
    {
      "metadata": {
        "id": "rXycGEb5VW4j",
        "colab_type": "code",
        "colab": {}
      },
      "cell_type": "code",
      "source": [
        "train = {}\n",
        "for i in range(1,(N_train + 1)):\n",
        "  train[str(i)] = np.reshape(mfcc[str(i)],(1,mfcc[str(i)].shape[0]*mfcc[str(i)].shape[1]))\n"
      ],
      "execution_count": 0,
      "outputs": []
    },
    {
      "metadata": {
        "id": "5fQBz2OeUFgL",
        "colab_type": "code",
        "colab": {}
      },
      "cell_type": "code",
      "source": [
        "feature = mfcc[str(2)].shape[0]*mfcc[str(2)].shape[1]"
      ],
      "execution_count": 0,
      "outputs": []
    },
    {
      "metadata": {
        "id": "NVYoFAf591cI",
        "colab_type": "code",
        "colab": {}
      },
      "cell_type": "code",
      "source": [
        "dev = {}\n",
        "for i in range((N_train + 1),(N_train + N_dev + 1)):\n",
        "  k = i - N_train\n",
        "  dev[str(k)] = np.reshape(mfcc[str(i)],(1,mfcc[str(i)].shape[0]*mfcc[str(i)].shape[1]))"
      ],
      "execution_count": 0,
      "outputs": []
    },
    {
      "metadata": {
        "id": "mUtaT1QyVXLD",
        "colab_type": "code",
        "colab": {}
      },
      "cell_type": "code",
      "source": [
        "test = {}\n",
        "for i in range((N_train + N_dev + 1),(N_train + N_dev + N_test + 1)):\n",
        "  k = i - N_train - N_dev\n",
        "  test[str(k)] = np.reshape(mfcc[str(i)],(1,mfcc[str(i)].shape[0]*mfcc[str(i)].shape[1]))"
      ],
      "execution_count": 0,
      "outputs": []
    },
    {
      "metadata": {
        "id": "Wpp3UzxR--oI",
        "colab_type": "code",
        "colab": {}
      },
      "cell_type": "code",
      "source": [
        "X = np.empty((1,feature))\n",
        "for i in range(1, (N_train + 1)):\n",
        "  X = np.append(X,train[str(i)],0)\n",
        "X = np.delete(X,[0],0)"
      ],
      "execution_count": 0,
      "outputs": []
    },
    {
      "metadata": {
        "id": "rmdAoX9bFWUY",
        "colab_type": "code",
        "colab": {}
      },
      "cell_type": "code",
      "source": [
        "D = np.empty((1,feature))\n",
        "for i in range(1, (N_dev + 1)):\n",
        "  D = np.append(D,dev[str(i)],0)\n",
        "D = np.delete(D,[0],0)"
      ],
      "execution_count": 0,
      "outputs": []
    },
    {
      "metadata": {
        "id": "GV1EC7WVFakY",
        "colab_type": "code",
        "colab": {}
      },
      "cell_type": "code",
      "source": [
        "T = np.empty((1,feature))\n",
        "for i in range(1, (N_test + 1)):\n",
        "  T = np.append(T,test[str(i)],0)\n",
        "T = np.delete(T,[0],0)"
      ],
      "execution_count": 0,
      "outputs": []
    },
    {
      "metadata": {
        "id": "z-Eim8BRLnr2",
        "colab_type": "code",
        "colab": {}
      },
      "cell_type": "code",
      "source": [
        "Y_train=np.array([\"a01\",\"a02\",\"a02\",\"a02\",\"a04\",\"a04\",\"a04\",\"a04\",\"a05\",\"a05\",\"a05\",\"a05\",\"a07\",\"a07\",\"a07\",\"b01\",\"b01\",\"b01\",\"b01\",\"b02\",\"b02\",\"b02\",\"b03\",\"b09\",\"b09\",\"b10\",\"b10\",\"b10\",\"b10\"])"
      ],
      "execution_count": 0,
      "outputs": []
    },
    {
      "metadata": {
        "id": "KcKWZYgQLAA_",
        "colab_type": "code",
        "colab": {}
      },
      "cell_type": "code",
      "source": [
        "#X =np.concatenate((a, b,c,d,t), axis=0)\n",
        "\n",
        "Y_dev = np.array([\"a01\",\"a02\",\"a04\",\"a05\",\"a07\",\"b01\",\"b02\",\"b03\",\"b09\",\"b10\"])"
      ],
      "execution_count": 0,
      "outputs": []
    },
    {
      "metadata": {
        "id": "FO3K5PAAM2vR",
        "colab_type": "code",
        "colab": {}
      },
      "cell_type": "code",
      "source": [
        "Y_test = np.array([\"a01\",\"a02\",\"a04\",\"a05\",\"a07\",\"b01\",\"b02\",\"b03\",\"b09\",\"b10\"])"
      ],
      "execution_count": 0,
      "outputs": []
    },
    {
      "metadata": {
        "id": "9Mb6Ou-_VXbj",
        "colab_type": "code",
        "colab": {}
      },
      "cell_type": "code",
      "source": [
        "from sklearn.neighbors import KNeighborsClassifier"
      ],
      "execution_count": 0,
      "outputs": []
    },
    {
      "metadata": {
        "id": "snD9-8HrKiqH",
        "colab_type": "code",
        "colab": {
          "base_uri": "https://localhost:8080/",
          "height": 68
        },
        "outputId": "23cad742-7e46-4057-c6e0-562e703e264b"
      },
      "cell_type": "code",
      "source": [
        "model = KNeighborsClassifier(n_neighbors=2)\n",
        "model.fit(X, Y_train)"
      ],
      "execution_count": 69,
      "outputs": [
        {
          "output_type": "execute_result",
          "data": {
            "text/plain": [
              "KNeighborsClassifier(algorithm='auto', leaf_size=30, metric='minkowski',\n",
              "           metric_params=None, n_jobs=1, n_neighbors=2, p=2,\n",
              "           weights='uniform')"
            ]
          },
          "metadata": {
            "tags": []
          },
          "execution_count": 69
        }
      ]
    },
    {
      "metadata": {
        "id": "T5x6Y1d8M3tH",
        "colab_type": "code",
        "colab": {}
      },
      "cell_type": "code",
      "source": [
        "x = model.predict(X)"
      ],
      "execution_count": 0,
      "outputs": []
    },
    {
      "metadata": {
        "id": "F9_91GE-Ha7C",
        "colab_type": "code",
        "colab": {
          "base_uri": "https://localhost:8080/",
          "height": 34
        },
        "outputId": "17c3ea38-5408-416e-d9d1-d6732ea7d9f7"
      },
      "cell_type": "code",
      "source": [
        "c = 0\n",
        "for i in range(N_train):\n",
        "  if (x[i] == Y_train[i]):\n",
        "    c += 1\n",
        "train_accuracy = (c/N_train)*100\n",
        "train_accuracy"
      ],
      "execution_count": 71,
      "outputs": [
        {
          "output_type": "execute_result",
          "data": {
            "text/plain": [
              "89.65517241379311"
            ]
          },
          "metadata": {
            "tags": []
          },
          "execution_count": 71
        }
      ]
    },
    {
      "metadata": {
        "id": "1nER_y6UICXy",
        "colab_type": "code",
        "colab": {}
      },
      "cell_type": "code",
      "source": [
        "d = model.predict(D)"
      ],
      "execution_count": 0,
      "outputs": []
    },
    {
      "metadata": {
        "id": "KGD-zfGOL5MS",
        "colab_type": "code",
        "colab": {
          "base_uri": "https://localhost:8080/",
          "height": 119
        },
        "outputId": "cc6786fd-9b53-4694-e029-3b3099e8f859"
      },
      "cell_type": "code",
      "source": [
        "c = 0\n",
        "for i in range(N_dev):\n",
        "  if (d[i] == Y_dev[i]):\n",
        "    c += 1\n",
        "    print(Y_dev[i])\n",
        "dev_accuracy = (c/N_dev)*100\n",
        "dev_accuracy"
      ],
      "execution_count": 73,
      "outputs": [
        {
          "output_type": "stream",
          "text": [
            "a02\n",
            "a04\n",
            "a05\n",
            "b01\n",
            "b10\n"
          ],
          "name": "stdout"
        },
        {
          "output_type": "execute_result",
          "data": {
            "text/plain": [
              "50.0"
            ]
          },
          "metadata": {
            "tags": []
          },
          "execution_count": 73
        }
      ]
    },
    {
      "metadata": {
        "id": "Qgs9CXm7NVsS",
        "colab_type": "code",
        "colab": {}
      },
      "cell_type": "code",
      "source": [
        "t = model.predict(T)"
      ],
      "execution_count": 0,
      "outputs": []
    },
    {
      "metadata": {
        "id": "Ak-QtKSnNiSx",
        "colab_type": "code",
        "colab": {
          "base_uri": "https://localhost:8080/",
          "height": 170
        },
        "outputId": "4d43faf6-09f0-47d9-aeb4-f8c2f77beb7c"
      },
      "cell_type": "code",
      "source": [
        "c = 0\n",
        "for i in range(N_test):\n",
        "  if (t[i] == Y_test[i]):\n",
        "    c += 1\n",
        "    print(Y_test[i])\n",
        "test_accuracy = (c/N_test)*100\n",
        "test_accuracy"
      ],
      "execution_count": 75,
      "outputs": [
        {
          "output_type": "stream",
          "text": [
            "a01\n",
            "a02\n",
            "a05\n",
            "a07\n",
            "b01\n",
            "b02\n",
            "b09\n",
            "b10\n"
          ],
          "name": "stdout"
        },
        {
          "output_type": "execute_result",
          "data": {
            "text/plain": [
              "80.0"
            ]
          },
          "metadata": {
            "tags": []
          },
          "execution_count": 75
        }
      ]
    },
    {
      "metadata": {
        "id": "mERHhvmgPvTT",
        "colab_type": "code",
        "colab": {}
      },
      "cell_type": "code",
      "source": [
        ""
      ],
      "execution_count": 0,
      "outputs": []
    }
  ]
}